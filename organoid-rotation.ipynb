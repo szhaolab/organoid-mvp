{
 "cells": [
  {
   "cell_type": "markdown",
   "id": "9f088ba7-9ca1-45a0-9050-d62a99ea8474",
   "metadata": {},
   "source": [
    "# Organoid Rotation Project, Winter 2025"
   ]
  },
  {
   "cell_type": "markdown",
   "id": "c98cdd53-1a98-4dc6-a366-1626b5363dc0",
   "metadata": {},
   "source": [
    "**Author:** Katie Hooker\\\n",
    "**Date:** Jan 6, 2024"
   ]
  },
  {
   "cell_type": "markdown",
   "id": "efef8682-e7f1-4f85-a5c6-900ddaa5e461",
   "metadata": {},
   "source": [
    "## Project Overview"
   ]
  },
  {
   "cell_type": "markdown",
   "id": "b2a06f0d-2d13-499d-8530-2eea27467594",
   "metadata": {},
   "source": [
    "For my winter 2025 rotation, I am leveraging Liyang's IBD annotation identified through colon organoids (colon epithelial cells) in order to see if this annotation is enriched in other traits. In order to test for functional enrichment, I will use UK Biobank GWAS summary statistics on selected traits."
   ]
  },
  {
   "cell_type": "code",
   "execution_count": null,
   "id": "7a56b683-f93d-43fa-a488-9aafdb88faa6",
   "metadata": {},
   "outputs": [],
   "source": []
  }
 ],
 "metadata": {
  "kernelspec": {
   "display_name": "Python 3 (ipykernel)",
   "language": "python",
   "name": "python3"
  },
  "language_info": {
   "codemirror_mode": {
    "name": "ipython",
    "version": 3
   },
   "file_extension": ".py",
   "mimetype": "text/x-python",
   "name": "python",
   "nbconvert_exporter": "python",
   "pygments_lexer": "ipython3",
   "version": "3.7.16"
  }
 },
 "nbformat": 4,
 "nbformat_minor": 5
}
